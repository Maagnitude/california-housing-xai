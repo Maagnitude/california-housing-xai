{
  "nbformat": 4,
  "nbformat_minor": 0,
  "metadata": {
    "colab": {
      "provenance": [],
      "authorship_tag": "ABX9TyOhywseSlekz2NNbTAZmqG9",
      "include_colab_link": true
    },
    "kernelspec": {
      "name": "python3",
      "display_name": "Python 3"
    },
    "language_info": {
      "name": "python"
    }
  },
  "cells": [
    {
      "cell_type": "markdown",
      "metadata": {
        "id": "view-in-github",
        "colab_type": "text"
      },
      "source": [
        "<a href=\"https://colab.research.google.com/github/Maagnitude/california-housing-xai/blob/main/california-housing-xai.ipynb\" target=\"_parent\"><img src=\"https://colab.research.google.com/assets/colab-badge.svg\" alt=\"Open In Colab\"/></a>"
      ]
    },
    {
      "cell_type": "code",
      "execution_count": 1,
      "metadata": {
        "id": "aeFB4SyMfkwQ"
      },
      "outputs": [],
      "source": [
        "import matplotlib.pyplot as plt\n",
        "import numpy as np\n",
        "from sklearn import datasets, linear_model\n",
        "from sklearn.datasets import fetch_california_housing\n",
        "from sklearn.metrics import mean_squared_error"
      ]
    },
    {
      "cell_type": "code",
      "source": [
        "# Load dataset (X:inputs/features, Y:target)\n",
        "ds_X, ds_Y = fetch_california_housing(return_X_y=True)"
      ],
      "metadata": {
        "id": "re1BQ1IohILR"
      },
      "execution_count": 2,
      "outputs": []
    },
    {
      "cell_type": "code",
      "source": [
        "# Split features into training/test sets\n",
        "ds_X_train = ds_X[:-4000]\n",
        "ds_X_test = ds_X[-4000:]"
      ],
      "metadata": {
        "id": "p2qIMkZjhL5x"
      },
      "execution_count": 3,
      "outputs": []
    },
    {
      "cell_type": "code",
      "source": [
        "# Split targets into training/test sets\n",
        "ds_Y_train = ds_Y[:-4000]\n",
        "ds_Y_test = ds_Y[-4000:]"
      ],
      "metadata": {
        "id": "yylfr6HzhL2_"
      },
      "execution_count": 4,
      "outputs": []
    },
    {
      "cell_type": "code",
      "source": [
        "# Initialize linear regression object\n",
        "regr = linear_model.LinearRegression()"
      ],
      "metadata": {
        "id": "hKp9iZgShL0M"
      },
      "execution_count": 5,
      "outputs": []
    },
    {
      "cell_type": "code",
      "source": [
        "# Construct model using the training sets\n",
        "regr.fit(ds_X_train, ds_Y_train)"
      ],
      "metadata": {
        "colab": {
          "base_uri": "https://localhost:8080/"
        },
        "id": "HBouO1RThLwi",
        "outputId": "0b91703f-2855-4a22-91ed-c9d7b84126c6"
      },
      "execution_count": 6,
      "outputs": [
        {
          "output_type": "execute_result",
          "data": {
            "text/plain": [
              "LinearRegression()"
            ]
          },
          "metadata": {},
          "execution_count": 6
        }
      ]
    },
    {
      "cell_type": "code",
      "source": [
        "# Produce predictions using the test set\n",
        "ds_Y_pred = regr.predict(ds_X_test)"
      ],
      "metadata": {
        "id": "1ZcnT1rFhSp6"
      },
      "execution_count": 7,
      "outputs": []
    },
    {
      "cell_type": "code",
      "source": [
        "# Output learned model coefficients\n",
        "print(\"Intercept: \\n\", regr.intercept_)\n",
        "print(\"Coefficients: \\n\", regr.coef_)"
      ],
      "metadata": {
        "colab": {
          "base_uri": "https://localhost:8080/"
        },
        "id": "eNM1rNThhSmj",
        "outputId": "7ef40652-f196-44e7-ed56-f06cc79d9f4f"
      },
      "execution_count": 8,
      "outputs": [
        {
          "output_type": "stream",
          "name": "stdout",
          "text": [
            "Intercept: \n",
            " -36.308638344599295\n",
            "Coefficients: \n",
            " [ 4.47711234e-01  9.40915756e-03 -1.20802393e-01  7.09551707e-01\n",
            " -1.82577993e-06 -8.83342492e-03 -4.21683195e-01 -4.29077083e-01]\n"
          ]
        }
      ]
    },
    {
      "cell_type": "code",
      "source": [
        "# Output mean squared prediction error\n",
        "print(\"Mean square prediction error: %.2f\" % mean_squared_error(ds_Y_test, ds_Y_pred))"
      ],
      "metadata": {
        "colab": {
          "base_uri": "https://localhost:8080/"
        },
        "id": "P79Av4LYhLoI",
        "outputId": "d6bb7dc0-e680-4112-ae90-859cb702622b"
      },
      "execution_count": 9,
      "outputs": [
        {
          "output_type": "stream",
          "name": "stdout",
          "text": [
            "Mean square prediction error: 0.50\n"
          ]
        }
      ]
    },
    {
      "cell_type": "markdown",
      "source": [
        "Η μετρική R-squared είναι ένα μέτρο του πόσο καλά το μοντέλο εξηγεί τη διακύμανση των δεδομένων. Κυμαίνεται από 0 έως 1, με τιμή 1 που υποδηλώνει τέλεια προσαρμογή. Μια υψηλή τιμή R-squared δείχνει ότι το μοντέλο είναι σε θέση να εξηγήσει μεγάλο μέρος της διακύμανσης των δεδομένων, ενώ μια χαμηλή τιμή R-squared δείχνει ότι το μοντέλο δεν είναι σε θέση να εξηγήσει μεγάλο μέρος της διακύμανσης των δεδομένων.\n",
        "\n",
        "Γενικά, η συνολική ικανότητα του μοντέλου να εξηγεί τα δεδομένα μπορεί να αξιολογηθεί εξετάζοντας την τιμή R-τετράγωνο σε συνδυασμό με το μέσο τετραγωνικό σφάλμα πρόβλεψης (MSE). Ένα χαμηλό MSE και μια υψηλή τιμή τετραγώνου R θα υποδείκνυε καλή προσαρμογή του μοντέλου, ενώ ένα υψηλό MSE και μια χαμηλή τιμή τετραγώνου R θα υποδείκνυε κακή προσαρμογή του μοντέλου."
      ],
      "metadata": {
        "id": "Jjo5lLrkifgv"
      }
    },
    {
      "cell_type": "code",
      "source": [
        "from sklearn.metrics import r2_score\n",
        "\n",
        "r2 = r2_score(ds_Y_test, ds_Y_pred)\n",
        "print(\"R-squared:\", r2)"
      ],
      "metadata": {
        "colab": {
          "base_uri": "https://localhost:8080/"
        },
        "id": "COVhnrfviZGF",
        "outputId": "62b77687-7c88-4621-d84f-91fd5dd8a813"
      },
      "execution_count": 10,
      "outputs": [
        {
          "output_type": "stream",
          "name": "stdout",
          "text": [
            "R-squared: 0.6616437502497786\n"
          ]
        }
      ]
    },
    {
      "cell_type": "markdown",
      "source": [],
      "metadata": {
        "id": "m96NEuHQjJJ1"
      }
    },
    {
      "cell_type": "code",
      "source": [
        "cal_housing=fetch_california_housing()\n",
        "feature_names=cal_housing.feature_names"
      ],
      "metadata": {
        "id": "k5qFPto9jPGE"
      },
      "execution_count": 27,
      "outputs": []
    },
    {
      "cell_type": "code",
      "source": [
        "feature_names"
      ],
      "metadata": {
        "colab": {
          "base_uri": "https://localhost:8080/"
        },
        "id": "3aE5mSPVnDP1",
        "outputId": "53304cc9-ce5a-406e-ce59-a51884f1a4dc"
      },
      "execution_count": 28,
      "outputs": [
        {
          "output_type": "execute_result",
          "data": {
            "text/plain": [
              "['MedInc',\n",
              " 'HouseAge',\n",
              " 'AveRooms',\n",
              " 'AveBedrms',\n",
              " 'Population',\n",
              " 'AveOccup',\n",
              " 'Latitude',\n",
              " 'Longitude']"
            ]
          },
          "metadata": {},
          "execution_count": 28
        }
      ]
    },
    {
      "cell_type": "code",
      "source": [
        "from sklearn.inspection import plot_partial_dependence\n",
        "\n",
        "plt.figure(figsize=(4, 2))\n",
        "# Plot the partial dependence for the selected features\n",
        "plot_partial_dependence(regr, ds_X_train, range(ds_X.shape[1]),\n",
        "                        feature_names=feature_names,\n",
        "                        n_jobs=-1, grid_resolution=2)\n",
        "plt.show()\n"
      ],
      "metadata": {
        "colab": {
          "base_uri": "https://localhost:8080/",
          "height": 371
        },
        "id": "K4BsblJCjInv",
        "outputId": "d23803e1-85ba-4e03-ddd3-413126dc36ca"
      },
      "execution_count": 51,
      "outputs": [
        {
          "output_type": "stream",
          "name": "stderr",
          "text": [
            "/usr/local/lib/python3.8/dist-packages/sklearn/utils/deprecation.py:87: FutureWarning: Function plot_partial_dependence is deprecated; Function `plot_partial_dependence` is deprecated in 1.0 and will be removed in 1.2. Use PartialDependenceDisplay.from_estimator instead\n",
            "  warnings.warn(msg, category=FutureWarning)\n"
          ]
        },
        {
          "output_type": "display_data",
          "data": {
            "text/plain": [
              "<Figure size 288x144 with 0 Axes>"
            ]
          },
          "metadata": {}
        },
        {
          "output_type": "display_data",
          "data": {
            "text/plain": [
              "<Figure size 432x288 with 9 Axes>"
            ],
            "image/png": "[encoded data removed]"
          },
          "metadata": {
            "needs_background": "light"
          }
        }
      ]
    }
  ]
}