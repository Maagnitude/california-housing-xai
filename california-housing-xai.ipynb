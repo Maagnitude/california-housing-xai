{
  "nbformat": 4,
  "nbformat_minor": 0,
  "metadata": {
    "colab": {
      "provenance": [],
      "include_colab_link": true
    },
    "kernelspec": {
      "name": "python3",
      "display_name": "Python 3"
    },
    "language_info": {
      "name": "python"
    }
  },
  "cells": [
    {
      "cell_type": "markdown",
      "metadata": {
        "id": "view-in-github",
        "colab_type": "text"
      },
      "source": [
        "<a href=\"https://colab.research.google.com/github/Maagnitude/california-housing-xai/blob/main/california-housing-xai.ipynb\" target=\"_parent\"><img src=\"https://colab.research.google.com/assets/colab-badge.svg\" alt=\"Open In Colab\"/></a>"
      ]
    },
    {
      "cell_type": "markdown",
      "source": [
        "# **Βιβλιοθήκες**\n",
        "Κάνουμε **import** τα απαραίτητα **modules**:\n",
        "\n",
        "* Το **matplotlib.pyplot** για τη δημιουργία διαγραμμάτων.\n",
        "* Το **numpy** για την υποστήριξη μαθηματικών πράξεων και σχέσεων.\n",
        "* Το **datasets** για να εισάγουμε το **dataset** πάνω στο οποίο θέλουμε να εκπαιδεύσουμε το μοντέλο μας, και το **linear_model** για να χρησιμοποιήσουμε ένα γραμμικό μοντέλο (συγκεκριμένα της **γραμμικής παλινδρόμισης**)\n",
        "* Από το **datasets** εισάγουμε το **fetch_california_housing**, ώστε να πάρουμε το εν λόγω **dataset**.\n",
        "* Από τα **metrics** εισάγουμε:\n",
        "  * το **mean_squared_error**, για να υπολογίσουμε το **μέσο τετραγωνικό σφάλμα** της πρόβλεψης του μοντέλου μας, και\n",
        "  * το **r2_score** για να υπολογίσουμε την μετρική **R-squared** του μοντέλου μας.\n"
      ],
      "metadata": {
        "id": "x6rBh7cVtUVU"
      }
    },
    {
      "cell_type": "code",
      "execution_count": null,
      "metadata": {
        "id": "aeFB4SyMfkwQ"
      },
      "outputs": [],
      "source": [
        "import matplotlib.pyplot as plt\n",
        "import numpy as np\n",
        "\n",
        "from sklearn import datasets, linear_model\n",
        "from sklearn.datasets import fetch_california_housing\n",
        "from sklearn.metrics import mean_squared_error\n",
        "from sklearn.metrics import r2_score"
      ]
    },
    {
      "cell_type": "code",
      "source": [
        "# Φορτώνουμε το σύνολο δεδομένων (X:είσοδοι/χαρακτηριστικά, Y:στόχος/label)\n",
        "ds_X, ds_Y = fetch_california_housing(return_X_y=True)\n",
        "data = fetch_california_housing(as_frame=True)\n",
        "\n",
        "# Χωρίζουμε το σύνολο δεδομένων εισόδου σε train και test set\n",
        "ds_X_train = ds_X[:-4000]\n",
        "ds_X_test = ds_X[-4000:]\n",
        "\n",
        "# Χωρίζουμε τα labels σε train και test set\n",
        "ds_Y_train = ds_Y[:-4000]\n",
        "ds_Y_test = ds_Y[-4000:]\n",
        "\n",
        "# Δημιουργούμε ένα αντικείμενο μοντέλου γραμμικής παλινδρόμησης\n",
        "regr = linear_model.LinearRegression()"
      ],
      "metadata": {
        "id": "re1BQ1IohILR"
      },
      "execution_count": null,
      "outputs": []
    },
    {
      "cell_type": "code",
      "source": [
        "# Construct model using the training sets\n",
        "regr.fit(ds_X_train, ds_Y_train)\n",
        "# Produce predictions using the test set\n",
        "ds_Y_pred = regr.predict(ds_X_test)"
      ],
      "metadata": {
        "id": "HBouO1RThLwi"
      },
      "execution_count": null,
      "outputs": []
    },
    {
      "cell_type": "markdown",
      "source": [
        "## **Βάρη/Συντελεστές**\n",
        "Παίρνουμε τα **βάρη/συντελεστές** (**coefficients/β1-β8**), την **παρεμβολή** (**intercept/β0**) καθώς και το **σφάλμα πρόβλεψης** (**prediction_error/ε**) και παρατηρούμε ότι η πρόβλεψη **y** κάθε δείγματος θα υπολογίζεται από την σχέση:\n",
        "\n",
        "**y = β0 + β1X1 + β2X2 + β3X3 + β4X4 + β5X5 + β6X6 + β7X7 + β8X8 + ε**\n",
        "\n",
        "η οποία αντικαθιστώντας τις τιμές γίνεται:\n",
        "\n",
        "**y = -36.308638344599295 + 4.47711234e-01 x X1 + 9.40915756e-03 x X2 - 1.20802393e-01 x X3 + 7.09551707e-01 x X4 - 1.82577993e-06 x X5 - 8.83342492e-03 x X6 - 4.21683195e-01 x X7 - 4.29077083e-01 x X8 + 0.50**\n",
        "\n",
        "Οπότε τα χαρακτηριστικά **X1** και **X4** τα οποία πολλαπλασιάζονται με τα βάρη **β1** και **β4** αντίστοιχα, έχουν **μεγάλη θετική συσχέτιση** με την **τιμή αγοράς κατοικίας** και τα **X7**, **Χ8** (με **β7** και **β8**) έχουν **μεγάλη αρνητική συσχέτιση** μ' αυτήν."
      ],
      "metadata": {
        "id": "ylVQpVYnkOL1"
      }
    },
    {
      "cell_type": "code",
      "source": [
        "# Output learned model coefficients\n",
        "intercept = regr.intercept_\n",
        "coefficients = regr.coef_\n",
        "print(\"Intercept: \\n\", intercept,\"\\n\")\n",
        "print(\"Coefficients: \\n\", coefficients)"
      ],
      "metadata": {
        "id": "eNM1rNThhSmj"
      },
      "execution_count": null,
      "outputs": []
    },
    {
      "cell_type": "code",
      "source": [
        "# Output mean squared prediction error\n",
        "prediction_error = mean_squared_error(ds_Y_test, ds_Y_pred)\n",
        "print(\"Mean square prediction error: %.2f\" % prediction_error)"
      ],
      "metadata": {
        "id": "P79Av4LYhLoI"
      },
      "execution_count": null,
      "outputs": []
    },
    {
      "cell_type": "code",
      "source": [
        "cal_housing=fetch_california_housing()\n",
        "feature_names=cal_housing.feature_names\n",
        "target = cal_housing.target\n",
        "data = cal_housing.data"
      ],
      "metadata": {
        "id": "k5qFPto9jPGE"
      },
      "execution_count": null,
      "outputs": []
    },
    {
      "cell_type": "code",
      "source": [
        "feature_names"
      ],
      "metadata": {
        "id": "3aE5mSPVnDP1"
      },
      "execution_count": null,
      "outputs": []
    },
    {
      "cell_type": "markdown",
      "source": [
        "## **Οπτικοποίηση των βαρών**"
      ],
      "metadata": {
        "id": "-ntv-4UDq4Ot"
      }
    },
    {
      "cell_type": "code",
      "source": [
        "plt.figure(figsize=(10,5))\n",
        "plt.bar(feature_names, coefficients)\n",
        "\n",
        "plt.xlabel('Feature')\n",
        "plt.ylabel('Coefficient')\n",
        "\n",
        "plt.show()"
      ],
      "metadata": {
        "id": "fLu0mgdxiM0H"
      },
      "execution_count": null,
      "outputs": []
    },
    {
      "cell_type": "markdown",
      "source": [
        "# **Μετρική R-squared**\n",
        "Η μετρική R-squared είναι ένα μέτρο του πόσο καλά το μοντέλο εξηγεί τη διακύμανση των δεδομένων. Κυμαίνεται από 0 έως 1, με τιμή 1 που υποδηλώνει τέλεια προσαρμογή. Μια υψηλή τιμή R-squared δείχνει ότι το μοντέλο είναι σε θέση να εξηγήσει μεγάλο μέρος της διακύμανσης των δεδομένων, ενώ μια χαμηλή τιμή R-squared δείχνει ότι το μοντέλο δεν είναι σε θέση να εξηγήσει μεγάλο μέρος της διακύμανσης των δεδομένων.\n",
        "\n",
        "Γενικά, η συνολική ικανότητα του μοντέλου να εξηγεί τα δεδομένα μπορεί να αξιολογηθεί εξετάζοντας την τιμή R-τετράγωνο σε συνδυασμό με το μέσο τετραγωνικό σφάλμα πρόβλεψης (MSE). Ένα χαμηλό MSE και μια υψηλή τιμή τετραγώνου R θα υποδείκνυε καλή προσαρμογή του μοντέλου, ενώ ένα υψηλό MSE και μια χαμηλή τιμή τετραγώνου R θα υποδείκνυε κακή προσαρμογή του μοντέλου.\n",
        "\n",
        "Η τιμή (**0.6616**) είναι αρκετά πιο κοντά στο 1, που σημαίνει ότι το μοντέλο εξηγεί αρκετά μεγάλο μέρος του συνόλου της διακύμανσης στα δεδομένα.\n",
        "\n",
        "Συνεπώς σε συνδυασμό με το μέσο τετραγωνικό σφάλμα που έχει τιμή 0.50 η οποία είναι δεν είναι ούτε μεγάλη ούτε μικρή, θεωρούμε ότι **έχει νόημα** να εξηγηθεί η συμπεριφορά του μοντέλου αυτού."
      ],
      "metadata": {
        "id": "Jjo5lLrkifgv"
      }
    },
    {
      "cell_type": "code",
      "source": [
        "r2 = r2_score(ds_Y_test, ds_Y_pred)\n",
        "print(\"R-squared:\", r2)"
      ],
      "metadata": {
        "id": "COVhnrfviZGF"
      },
      "execution_count": null,
      "outputs": []
    },
    {
      "cell_type": "markdown",
      "source": [
        "# **Effect Plot**\n",
        "Το γράφημα επιδράσεων απεικονίζει πόσο ο συνδυασμός βάρους και χαρακτηριστικού συμβάλλει στις προβλέψεις. Αυτές οι υπολογιζόμενες επιδράσεις αναπαριστώνται με γραφήματα ‘κουτιών’ (boxplots). Παρακάτω έχει γίνει η εφαρμογή του τύπου effectj (i) = wjxj (i) για το σύνολο των δειγμάτων. Αρχικά, όπως αναφέραμε το ds_X περιλαμβάνει τα χαρακτηριστικά των σπιτιών και το ds_Y το αποτέλεσμα, δηλαδή τις τιμές των σπιτιών. Με το ds_X.Τ έχουμε τον transpose πίνακα, δηλ. σχήματος (8, 20640), ο οποίος λέγεται X_rev. Στα boxplot, ουσιαστικά κάθε χαρακτηριστικό (πχ. το MedInc) πολλαπλασιάζεται με το coefficie￼nts[i], δηλαδή με το βάρος του (πχ. το β1) όπως απεικονίζεται και παρακάτω.\n",
        "\n",
        "Κάθε κουτί του γραφήματος περιέχει το εύρος της επίδρασης για τα μισά διαθέσιμα δεδομένα. Συγκεκριμένα, οι δύο αντιδιαμετρικές πλευρές του κάθε κουτιού (αριστερή και δεξιά) αφορούν το 25% και 75% αντίστοιχα, των δειγμάτων. Η κάθετη γραμμή στο κουτί που βλέπουμε παρακάτω, αντιστοιχεί στη μεσαία (median) τιμή της επίδρασης. Οι οριζόντιες γραμμές εκτείνονται στο διάστημα +-1,5IQR/√n όπου IQR (interquartile range) είναι το εύρος μεταξύ τεταρτημορίων ‘75%’ και ‘25%’. Συνεπώς, η οριζόντια γραμμή εκτείνεται μέχρι τις δύο κάθετες όπου αφορούν τη μέγιστη και την ελάχιστη τιμή, χωρίς όμως να περιλαμβάνονται οι ακραίες τιμές. Τα μαύρα ‘κυκλάκια’ είναι οι ακραίες τιμές (outliers)."
      ],
      "metadata": {
        "id": "1eztwGHPcRad"
      }
    },
    {
      "cell_type": "code",
      "source": [
        "X_rev = ds_X.T\n",
        "plt.figure(figsize=(20, 20))\n",
        "\n",
        "feature_values = []\n",
        "for i in range(coefficients.size):\n",
        "  feature_values.append(X_rev[i] * coefficients[i])\n",
        "\n",
        "plt.title(\"Effect Plot\")\n",
        "plt.boxplot(feature_values, vert=False)\n",
        "plt.yticks(range(1, len(feature_names) + 1), feature_names)\n",
        "plt.xlabel(\"Feature effect\")\n",
        "\n",
        "plt.show()"
      ],
      "metadata": {
        "id": "qsiW_HXycPmg"
      },
      "execution_count": null,
      "outputs": []
    },
    {
      "cell_type": "markdown",
      "source": [
        "## **Effect plot 2**\n",
        "Όπως παρατηρούμε, το χαρακτηριστικό με την μεγαλύτερη θετική επίδραση στην πρόβλεψη του μοντέλου είναι το Longitude, του οποίου η διακύμανση είναι 49.1 έως 53.4. Εν συνεχεία, το χαρακτηριστικό με την μεγαλύτερη αρνητική επίδραση στην πρόβλεψη του μοντέλου είναι το Latitude, με διακύμανση -17.7 έως -13.4. Η επίδραση των υπόλοιπων χαρακτηριστικών είναι κοντά στο 0. \n",
        "Επίσης παρατηρούμε ότι στο AveBrms έχουμε πολλά δείγματα outliers, τα οποία έχουν δεχτεί κυρίως θετική επίδραση του χαρακτηριστικού αυτού, και από την άλλη στο AveRooms, έχουμε πολλά outliers, τα οποία έχουν δεχτεί κυρίως αρνητική επίδραση του χαρακτηριστικού."
      ],
      "metadata": {
        "id": "HBu5sYfCn9e8"
      }
    },
    {
      "cell_type": "code",
      "source": [
        "X_rev = ds_X.T\n",
        "plt.figure(figsize=(40, 40))\n",
        "\n",
        "for i in range(coefficients.size):\n",
        "\n",
        "  plt.style.use('bmh')\n",
        "  plt.subplot(11, 2, (i + 1))\n",
        "  plt.title(feature_names[i])\n",
        "  plt.boxplot((X_rev[i] * coefficients[i]), vert=False)\n",
        "  plt.subplots_adjust(hspace=1)\n",
        "  plt.xlabel(\"Feature effect\")\n",
        "  \n",
        "plt.show()"
      ],
      "metadata": {
        "id": "R3wWQR-Zn0j-"
      },
      "execution_count": null,
      "outputs": []
    },
    {
      "cell_type": "markdown",
      "source": [
        "# **Effect plot explained for a random sample**\n",
        "\n",
        "Για την καλύτερη ανάλυση του γραφήματος έχουμε επιλέξει τυχαία το δείγμα 1000. Μας ενδιαφέρει να ερευνήσουμε πόσο συνεισφέρει κάθε χαρακτηριστικό του δείγματος στην πρόβλεψη για τον υπολογισμό των επιδράσεων.  Τα κόκκινα ‘x’ στα διαγράμματα αφορούν τις τιμές των χαρακτηριστικών του εξεταζόμενου δείγματος. \n",
        "\n",
        "Στο τυχαίο δείγμα που πήραμε κάνουμε τις εξής παρατηρήσεις:\n",
        "\n",
        "Στα χαρακτηριστικά Longitude, Population και MedInc μπορούμε να πούμε με σιγουριά ότι βρίσκεται εκτός του κουτιού, δηλαδή εκτός του IQR, αλλά σε κανένα από αυτά δεν βρίσκεται στην περιοχή των outliers.\n",
        "Το χαρακτηριστικό Longitude σ’ αυτό το δείγμα, είχε αρκετά μεγαλύτερη από το μέσο, θετική επίδραση, συγκριτικά και με την διακύμανση του.\n",
        "Το Latitude, είχε μεγαλύτερη αρνητική επίδραση σε σχέση με το μέσο.\n",
        "Επίσης τα HouseAge και MedInc είχαν μεγαλύτερη θετική επίδραση από τον μέσο.\n",
        "Τα AveRooms και Population είχαν επίδραση σχεδόν ίση με τον μέσο. Λίγο αρνητικότερη θα μπορούσαμε να πούμε, αλλά όχι για πολύ.\n",
        "Τέλος, για τα AveBdrms και AveOccup, δεν μπορούμε να πούμε με σιγουριά. Αυτό που ξέρουμε είναι ότι δεν αφορά κάποιο outlier. Φαίνεται να είναι μέσα στην διακύμανση, με ίδια επίδραση με τον μέσο του καθενός από αυτά τα χαρακτηριστικά.\n",
        "\n"
      ],
      "metadata": {
        "id": "H_CEKO0j4ImA"
      }
    },
    {
      "cell_type": "code",
      "source": [
        "#Επιλέγουμε τυχαία ένα δείγμα\n",
        "random_number = 1000\n",
        "print(\"Random number is: %d\" % random_number)\n",
        "random_sample = ds_X_test[random_number]\n",
        "\n",
        "plt.figure(figsize=(20, 20))\n",
        "\n",
        "print(\"Predicted value for instance: %.2f\" % ds_Y_pred[random_number])\n",
        "print(\"Averange predicted value: %.2f\" % ds_Y_pred.mean())\n",
        "print(\"Actual value: %.2f\" % ds_Y_test[random_number])\n",
        "\n",
        "feature_values = []\n",
        "for i in range(coefficients.size):\n",
        "  feature_values.append(X_rev[i] * coefficients[i])\n",
        "\n",
        "plt.title(\"Effect Plot\")\n",
        "plt.boxplot(feature_values, vert=False)\n",
        "plt.yticks(range(1, len(feature_names) + 1), feature_names)\n",
        "\n",
        "for i in range(coefficients.size):\n",
        "  plt.scatter(x=(random_sample[i] * coefficients[i]), y=i+1, marker='x', color='red')\n",
        "plt.xlabel(\"Feature effect\")\n",
        "\n",
        "plt.show()"
      ],
      "metadata": {
        "id": "DeVP5iOC4_0g"
      },
      "execution_count": null,
      "outputs": []
    },
    {
      "cell_type": "code",
      "source": [
        "#Επιλέγουμε τυχαία ένα δείγμα\n",
        "random_number = 1000   # Για να πάρουμε πάλι το ίδιο δείγμα που εξετάσαμε και παραπάνω.\n",
        "print(\"Random number is: %d\" % random_number)\n",
        "random_sample = ds_X_test[random_number]\n",
        "\n",
        "plt.figure(figsize=(50, 50))\n",
        "\n",
        "print(\"Predicted value for instance: %.2f\" % ds_Y_pred[random_number])\n",
        "print(\"Averange predicted value: %.2f\" % ds_Y_pred.mean())\n",
        "print(\"Actual value: %.2f\" % ds_Y_test[random_number])\n",
        "\n",
        "for i in range(coefficients.size):\n",
        "  plt.style.use('bmh')\n",
        "  plt.subplot(11, 2, (i + 1))\n",
        "  plt.title(feature_names[i])\n",
        "  plt.boxplot((X_rev[i] * coefficients[i]), vert=False)\n",
        "  plt.scatter(x=(random_sample[i] * coefficients[i]),y=1, marker='x', color='red')\n",
        "  plt.subplots_adjust(hspace=1)\n",
        "  \n",
        "plt.show()"
      ],
      "metadata": {
        "id": "VIUN1yWC4ION"
      },
      "execution_count": null,
      "outputs": []
    }
  ]
}